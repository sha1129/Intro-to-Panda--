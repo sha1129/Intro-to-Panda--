{
 "cells": [
  {
   "cell_type": "markdown",
   "metadata": {},
   "source": [
    "# Basic DataFrame Operations in Pandas \n",
    "\n",
    "Mostly reviews as I did not practice for a while..."
   ]
  },
  {
   "cell_type": "markdown",
   "metadata": {},
   "source": [
    "## 2877. Create a DataFrame from List\n",
    "\n",
    "Write a solution to create a DataFrame from a 2D list called student_data. This 2D list contains the IDs and ages of some students.\n",
    "\n",
    "The DataFrame should have two columns, student_id and age, and be in the same order as the original 2D list."
   ]
  },
  {
   "cell_type": "code",
   "execution_count": 34,
   "metadata": {},
   "outputs": [],
   "source": [
    "# Import\n",
    "import pandas as pd\n",
    "import numpy as np\n",
    "import matplotlib.pyplot as pb\n",
    "import seaborn as sns "
   ]
  },
  {
   "cell_type": "code",
   "execution_count": 35,
   "metadata": {},
   "outputs": [],
   "source": [
    "# Creating student data list\n",
    "student_data = [[1,15],[2,11],[3,11],[4,20]]\n",
    "\n",
    "# Another Dataset\n",
    "# mobile_device_df = pd.read_csv("
   ]
  },
  {
   "cell_type": "code",
   "execution_count": 36,
   "metadata": {},
   "outputs": [],
   "source": [
    "# Creating DataFrame \n",
    "student_df = pd.DataFrame(student_data, columns=[\"student_id\",\"age\"])"
   ]
  },
  {
   "cell_type": "code",
   "execution_count": 37,
   "metadata": {},
   "outputs": [
    {
     "name": "stdout",
     "output_type": "stream",
     "text": [
      "   student_id  age\n",
      "0           1   15\n",
      "1           2   11\n",
      "2           3   11\n",
      "3           4   20\n"
     ]
    }
   ],
   "source": [
    "# Print \n",
    "print(student_df)"
   ]
  },
  {
   "cell_type": "markdown",
   "metadata": {},
   "source": [
    "## 2878. Get the Size of a DataFrame\n",
    "\n",
    "Write a solution to calculate and display the number of rows and columns of players.\n",
    "\n",
    "Return the result as an array:"
   ]
  },
  {
   "cell_type": "code",
   "execution_count": 38,
   "metadata": {},
   "outputs": [
    {
     "name": "stdout",
     "output_type": "stream",
     "text": [
      "[4, 2]\n"
     ]
    }
   ],
   "source": [
    "[rows,cols] = student_df.shape \n",
    "\n",
    "print([rows,cols])"
   ]
  },
  {
   "cell_type": "code",
   "execution_count": 39,
   "metadata": {},
   "outputs": [],
   "source": [
    "# Shape of Data \n",
    "# mobile_device_df.shape"
   ]
  },
  {
   "cell_type": "markdown",
   "metadata": {},
   "source": [
    "# 2879. Display the First Three Rows\n",
    "\n",
    "a solution to display the first 3 rows of this DataFrame."
   ]
  },
  {
   "cell_type": "code",
   "execution_count": 40,
   "metadata": {},
   "outputs": [],
   "source": [
    "# Getting the top 3 rows\n",
    "# mobile_device_df.head(3)\n",
    "\n",
    "# Head by default give top 5 rows\n",
    "# mobile_device_df.head()"
   ]
  },
  {
   "cell_type": "markdown",
   "metadata": {},
   "source": [
    "# 2880. Select Data\n",
    "\n",
    "Write a solution to select the uid of iOS users "
   ]
  },
  {
   "cell_type": "code",
   "execution_count": 41,
   "metadata": {},
   "outputs": [],
   "source": [
    "# Getting specific values based on loc for my case I am looking for iOS user IDs\n",
    "# mobile_device_df.loc[mobile_device_df['Operating System'] == 'iOS',['User ID']]\n",
    "\n",
    "# To take it to a next level I will count the values\n",
    "# ios_uid = mobile_device_df.loc[mobile_device_df['Operating System'] == 'iOS',['User ID']].count()\n",
    "\n",
    "# print(ios_uid)\n"
   ]
  },
  {
   "cell_type": "markdown",
   "metadata": {},
   "source": [
    "# 2881. Create a New Column\n",
    "\n",
    "A company plans to provide its employees with a bonus.\n",
    "\n",
    "Write a solution to create a new column name bonus that contains the doubled values of the salary column."
   ]
  },
  {
   "cell_type": "code",
   "execution_count": 42,
   "metadata": {},
   "outputs": [
    {
     "name": "stdout",
     "output_type": "stream",
     "text": [
      "      name  salary\n",
      "0    Piper    4548\n",
      "1    Grace   28150\n",
      "2  Georgia    1103\n",
      "3   Willow    6593\n",
      "4     Finn   74576\n",
      "5   Thomas   24433\n"
     ]
    }
   ],
   "source": [
    "# Create the data and DF\n",
    "\n",
    "data = {\n",
    "    'name': ['Piper', 'Grace', 'Georgia', 'Willow', 'Finn', 'Thomas'],\n",
    "    'salary': [4548, 28150, 1103, 6593, 74576, 24433]\n",
    "}\n",
    "employees = pd.DataFrame(data)\n",
    "\n",
    "print(employees)"
   ]
  },
  {
   "cell_type": "code",
   "execution_count": 43,
   "metadata": {},
   "outputs": [
    {
     "data": {
      "text/plain": [
       "(6, 2)"
      ]
     },
     "execution_count": 43,
     "metadata": {},
     "output_type": "execute_result"
    }
   ],
   "source": [
    "# Shape of the data returns a tuple\n",
    "employees.shape"
   ]
  },
  {
   "cell_type": "code",
   "execution_count": 44,
   "metadata": {},
   "outputs": [
    {
     "data": {
      "text/html": [
       "<div>\n",
       "<style scoped>\n",
       "    .dataframe tbody tr th:only-of-type {\n",
       "        vertical-align: middle;\n",
       "    }\n",
       "\n",
       "    .dataframe tbody tr th {\n",
       "        vertical-align: top;\n",
       "    }\n",
       "\n",
       "    .dataframe thead th {\n",
       "        text-align: right;\n",
       "    }\n",
       "</style>\n",
       "<table border=\"1\" class=\"dataframe\">\n",
       "  <thead>\n",
       "    <tr style=\"text-align: right;\">\n",
       "      <th></th>\n",
       "      <th>name</th>\n",
       "      <th>salary</th>\n",
       "    </tr>\n",
       "  </thead>\n",
       "  <tbody>\n",
       "    <tr>\n",
       "      <th>0</th>\n",
       "      <td>Piper</td>\n",
       "      <td>4548</td>\n",
       "    </tr>\n",
       "    <tr>\n",
       "      <th>1</th>\n",
       "      <td>Grace</td>\n",
       "      <td>28150</td>\n",
       "    </tr>\n",
       "    <tr>\n",
       "      <th>2</th>\n",
       "      <td>Georgia</td>\n",
       "      <td>1103</td>\n",
       "    </tr>\n",
       "  </tbody>\n",
       "</table>\n",
       "</div>"
      ],
      "text/plain": [
       "      name  salary\n",
       "0    Piper    4548\n",
       "1    Grace   28150\n",
       "2  Georgia    1103"
      ]
     },
     "execution_count": 44,
     "metadata": {},
     "output_type": "execute_result"
    }
   ],
   "source": [
    "# first 3 rows\n",
    "\n",
    "employees.head(3)\n"
   ]
  },
  {
   "cell_type": "code",
   "execution_count": 45,
   "metadata": {},
   "outputs": [],
   "source": [
    "# unconventional approach using list, for loop \n",
    "bonus = []\n",
    "\n",
    "for i in range(len(employees)):\n",
    "    bonus.append(employees['salary'][i] * 2)\n",
    "    \n",
    " "
   ]
  },
  {
   "cell_type": "code",
   "execution_count": 46,
   "metadata": {},
   "outputs": [],
   "source": [
    "# Create a column \n",
    "\n",
    "employees['bonus'] = bonus"
   ]
  },
  {
   "cell_type": "code",
   "execution_count": 47,
   "metadata": {},
   "outputs": [
    {
     "name": "stdout",
     "output_type": "stream",
     "text": [
      "      name  salary   bonus\n",
      "0    Piper    4548    9096\n",
      "1    Grace   28150   56300\n",
      "2  Georgia    1103    2206\n",
      "3   Willow    6593   13186\n",
      "4     Finn   74576  149152\n",
      "5   Thomas   24433   48866\n"
     ]
    }
   ],
   "source": [
    "print(employees)"
   ]
  }
 ],
 "metadata": {
  "kernelspec": {
   "display_name": "base",
   "language": "python",
   "name": "python3"
  },
  "language_info": {
   "codemirror_mode": {
    "name": "ipython",
    "version": 3
   },
   "file_extension": ".py",
   "mimetype": "text/x-python",
   "name": "python",
   "nbconvert_exporter": "python",
   "pygments_lexer": "ipython3",
   "version": "3.9.20"
  }
 },
 "nbformat": 4,
 "nbformat_minor": 2
}
